{
  "nbformat": 4,
  "nbformat_minor": 0,
  "metadata": {
    "colab": {
      "name": "MPS Algebra",
      "provenance": [],
      "collapsed_sections": []
    },
    "kernelspec": {
      "name": "python3",
      "display_name": "Python 3"
    }
  },
  "cells": [
    {
      "cell_type": "markdown",
      "metadata": {
        "id": "t0mNjfc_CN2l",
        "colab_type": "text"
      },
      "source": [
        "# Install block2"
      ]
    },
    {
      "cell_type": "markdown",
      "metadata": {
        "id": "SgmcXHOnCXer",
        "colab_type": "text"
      },
      "source": [
        "Clone github repo:"
      ]
    },
    {
      "cell_type": "code",
      "metadata": {
        "id": "iHyx9NGg7QqN",
        "colab_type": "code",
        "colab": {
          "base_uri": "https://localhost:8080/",
          "height": 34
        },
        "outputId": "f382ec42-4e4a-4f36-eb2c-557710cadbdc"
      },
      "source": [
        "import os\n",
        "from getpass import getpass\n",
        "user = 'hczhai'\n",
        "pw = getpass('Password: ')\n",
        "os.system('git clone https://{}:{}@github.com/block-hczhai/block2.git'.format(user, pw))\n",
        "del pw"
      ],
      "execution_count": 1,
      "outputs": [
        {
          "output_type": "stream",
          "text": [
            "Password: ··········\n"
          ],
          "name": "stdout"
        }
      ]
    },
    {
      "cell_type": "markdown",
      "metadata": {
        "id": "OM1sJP_sCa3v",
        "colab_type": "text"
      },
      "source": [
        "Build `block2` python interface:"
      ]
    },
    {
      "cell_type": "code",
      "metadata": {
        "id": "-zLwQhfT8VND",
        "colab_type": "code",
        "colab": {
          "base_uri": "https://localhost:8080/",
          "height": 785
        },
        "outputId": "3edf4329-5da6-45fe-e799-8c194733538a"
      },
      "source": [
        "!pip3 install -q pybind11 mkl mkl-include\n",
        "%cd block2\n",
        "!mkdir build\n",
        "!cd build && MKLROOT=/usr/local cmake .. -DUSE_MKL=ON -DBUILD_LIB=ON && time make"
      ],
      "execution_count": 2,
      "outputs": [
        {
          "output_type": "stream",
          "text": [
            "\u001b[K     |████████████████████████████████| 296kB 2.9MB/s \n",
            "\u001b[K     |████████████████████████████████| 880kB 9.2MB/s \n",
            "\u001b[?25h/content/block2\n",
            "-- The C compiler identification is GNU 7.5.0\n",
            "-- The CXX compiler identification is GNU 7.5.0\n",
            "-- Check for working C compiler: /usr/bin/gcc\n",
            "-- Check for working C compiler: /usr/bin/gcc -- works\n",
            "-- Detecting C compiler ABI info\n",
            "-- Detecting C compiler ABI info - done\n",
            "-- Detecting C compile features\n",
            "-- Detecting C compile features - done\n",
            "-- Check for working CXX compiler: /usr/bin/g++\n",
            "-- Check for working CXX compiler: /usr/bin/g++ -- works\n",
            "-- Detecting CXX compiler ABI info\n",
            "-- Detecting CXX compiler ABI info - done\n",
            "-- Detecting CXX compile features\n",
            "-- Detecting CXX compile features - done\n",
            "-- Found PythonInterp: /usr/bin/python3 (found version \"3.6.9\") \n",
            "-- Found PythonLibs: /usr/lib/x86_64-linux-gnu/libpython3.6m.so (found suitable version \"3.6.9\", minimum required is \"3.6\") \n",
            "-- PROJECT_NAME = block2\n",
            "-- PYTHON_VERSION_MAJOR = 3\n",
            "-- PYTHON_VERSION_MINOR = 6\n",
            "-- PYTHON_LIBRARIES = /usr/lib/x86_64-linux-gnu/libpython3.6m.so\n",
            "-- PYTHON_EXECUTABLE = /usr/bin/python3\n",
            "-- PYTHON_EXECUTABLE_HINT = \n",
            "-- PYTHON_INCLUDE_DIRS = /usr/include/python3.6m\n",
            "-- PYLIB_SUFFIX = .cpython-36m-x86_64-linux-gnu.so\n",
            "-- PYBIND_INCLUDE_DIRS = /usr/local/lib/python3.6/dist-packages/pybind11/include\n",
            "-- BUILD_LIB = ON\n",
            "-- OPT_FLAG = -O3;-funroll-loops;-openmp;-Werror\n",
            "-- MKL_INCLUDE_DIR = /usr/local/include\n",
            "-- MKL_LIBS = -Wl,--no-as-needed;pthread;iomp5;/usr/local/lib/libmkl_intel_lp64.so;/usr/local/lib/libmkl_core.so;/usr/local/lib/libmkl_intel_thread.so;/usr/local/lib/libmkl_avx2.so;/usr/local/lib/libmkl_avx512.so\n",
            "-- SRCS = /content/block2/src/pybind.cpp\n",
            "-- Configuring done\n",
            "-- Generating done\n",
            "-- Build files have been written to: /content/block2/build\n",
            "\u001b[35m\u001b[1mScanning dependencies of target block2\u001b[0m\n",
            "[ 50%] \u001b[32mBuilding CXX object CMakeFiles/block2.dir/src/pybind.cpp.o\u001b[0m\n",
            "[100%] \u001b[32m\u001b[1mLinking CXX shared module block2.cpython-36m-x86_64-linux-gnu.so\u001b[0m\n",
            "[100%] Built target block2\n",
            "\n",
            "real\t4m34.518s\n",
            "user\t4m24.505s\n",
            "sys\t0m9.414s\n"
          ],
          "name": "stdout"
        }
      ]
    },
    {
      "cell_type": "markdown",
      "metadata": {
        "id": "bjZakJZTFS7A",
        "colab_type": "text"
      },
      "source": [
        "# Hubbard Model"
      ]
    },
    {
      "cell_type": "code",
      "metadata": {
        "id": "1Vhmv-oQBZ5r",
        "colab_type": "code",
        "colab": {}
      },
      "source": [
        "from pyblock2.algebra import *\n",
        "import numpy as np\n",
        "import itertools"
      ],
      "execution_count": 3,
      "outputs": []
    },
    {
      "cell_type": "markdown",
      "metadata": {
        "id": "df5y3EsuFeIN",
        "colab_type": "text"
      },
      "source": [
        "Perfom DMRG inside C++ block2 to obtain a ground-state MPS:"
      ]
    },
    {
      "cell_type": "code",
      "metadata": {
        "id": "xRh3qTYqE0MD",
        "colab_type": "code",
        "colab": {
          "base_uri": "https://localhost:8080/",
          "height": 68
        },
        "outputId": "4ffed24b-104c-40c5-8920-2adf0ff70fc1"
      },
      "source": [
        "%%time\n",
        "with HamilTools.hubbard(n_sites=8, u=2, t=1) as hamil:\n",
        "    mps = hamil.get_ground_state_mps(bond_dim=250)\n",
        "    mpo = hamil.get_mpo()"
      ],
      "execution_count": 4,
      "outputs": [
        {
          "output_type": "stream",
          "text": [
            "Ground State Energy =  -6.2256341283857175\n",
            "CPU times: user 612 ms, sys: 33.7 ms, total: 646 ms\n",
            "Wall time: 828 ms\n"
          ],
          "name": "stdout"
        }
      ]
    },
    {
      "cell_type": "markdown",
      "metadata": {
        "id": "5NI-rMmYHZ5l",
        "colab_type": "text"
      },
      "source": [
        "Compress NC MPO (by removing zero two-electron operators for Hubbard model):"
      ]
    },
    {
      "cell_type": "code",
      "metadata": {
        "id": "UudQ2a1kFmaG",
        "colab_type": "code",
        "colab": {
          "base_uri": "https://localhost:8080/",
          "height": 51
        },
        "outputId": "29fc4fa4-4e58-406d-df24-2a667ff68e91"
      },
      "source": [
        "print('MPO (NC) =         ', mpo.show_bond_dims())\n",
        "mpo.compress(cutoff=1E-12)\n",
        "print('MPO (compressed) = ', mpo.show_bond_dims())"
      ],
      "execution_count": 5,
      "outputs": [
        {
          "output_type": "stream",
          "text": [
            "MPO (NC) =          46|82|142|226|334|466|622\n",
            "MPO (compressed) =  6|6|6|6|6|6|6\n"
          ],
          "name": "stdout"
        }
      ]
    },
    {
      "cell_type": "markdown",
      "metadata": {
        "id": "KJPpfNMvI589",
        "colab_type": "text"
      },
      "source": [
        "Check ground-state energy:"
      ]
    },
    {
      "cell_type": "code",
      "metadata": {
        "id": "zTLlZRmiI0DL",
        "colab_type": "code",
        "colab": {
          "base_uri": "https://localhost:8080/",
          "height": 34
        },
        "outputId": "37589ae5-cd29-416e-d1be-2176c8906f27"
      },
      "source": [
        "print('MPS energy = ', mps @ mpo @ mps)"
      ],
      "execution_count": 6,
      "outputs": [
        {
          "output_type": "stream",
          "text": [
            "MPS energy =  -6.225634128385716\n"
          ],
          "name": "stdout"
        }
      ]
    },
    {
      "cell_type": "markdown",
      "metadata": {
        "id": "KqDdbrbUIZtL",
        "colab_type": "text"
      },
      "source": [
        "Check that ground-state MPS is normalized:"
      ]
    },
    {
      "cell_type": "code",
      "metadata": {
        "id": "Mj8-fG8pHK0u",
        "colab_type": "code",
        "colab": {
          "base_uri": "https://localhost:8080/",
          "height": 51
        },
        "outputId": "bd51b8f0-5997-4ee0-8395-450fa8c39249"
      },
      "source": [
        "print('MPS = ', mps.show_bond_dims())\n",
        "print('MPS norm = ', mps.norm())"
      ],
      "execution_count": 7,
      "outputs": [
        {
          "output_type": "stream",
          "text": [
            "MPS =  4|16|64|235|64|16|4\n",
            "MPS norm =  1.0000000000000004\n"
          ],
          "name": "stdout"
        }
      ]
    },
    {
      "cell_type": "markdown",
      "metadata": {
        "id": "wpNxaQX5Imkt",
        "colab_type": "text"
      },
      "source": [
        "### MPS Scaling"
      ]
    },
    {
      "cell_type": "markdown",
      "metadata": {
        "id": "lyRuw6LeJIrk",
        "colab_type": "text"
      },
      "source": [
        "MPS scaling (by scaling the first MPS tensor):"
      ]
    },
    {
      "cell_type": "code",
      "metadata": {
        "id": "UmnNdT_cIhPw",
        "colab_type": "code",
        "colab": {
          "base_uri": "https://localhost:8080/",
          "height": 51
        },
        "outputId": "2aa72f7f-6f9a-46a3-af88-2dd4ee8f9e22"
      },
      "source": [
        "print('2 MPS = ', (2 * mps).show_bond_dims())\n",
        "print((2 * mps).norm())"
      ],
      "execution_count": 8,
      "outputs": [
        {
          "output_type": "stream",
          "text": [
            "2 MPS =  4|16|64|235|64|16|4\n",
            "2.000000000000001\n"
          ],
          "name": "stdout"
        }
      ]
    },
    {
      "cell_type": "markdown",
      "metadata": {
        "id": "1B5ZJVR4KKuu",
        "colab_type": "text"
      },
      "source": [
        "Check the first MPS tensor:"
      ]
    },
    {
      "cell_type": "code",
      "metadata": {
        "id": "7VHlRdgZKDnd",
        "colab_type": "code",
        "colab": {
          "base_uri": "https://localhost:8080/",
          "height": 85
        },
        "outputId": "4ccf2bc9-a5ce-40a2-ec3a-bffda7a82f42"
      },
      "source": [
        "mps[0]"
      ],
      "execution_count": 9,
      "outputs": [
        {
          "output_type": "execute_result",
          "data": {
            "text/plain": [
              "  0 (Q=) (< N=0 SZ=0 PG=0 >, < N=0 SZ=0 PG=0 >) (R=) array([[0.37390503]])\n",
              "  1 (Q=) (< N=1 SZ=1/2 PG=0 >, < N=1 SZ=1/2 PG=0 >) (R=) array([[-0.60017023]])\n",
              "  2 (Q=) (< N=1 SZ=-1/2 PG=0 >, < N=1 SZ=-1/2 PG=0 >) (R=) array([[0.60016213]])\n",
              "  3 (Q=) (< N=2 SZ=0 PG=0 >, < N=2 SZ=0 PG=0 >) (R=) array([[0.37389323]])"
            ]
          },
          "metadata": {
            "tags": []
          },
          "execution_count": 9
        }
      ]
    },
    {
      "cell_type": "code",
      "metadata": {
        "id": "3ibt3zZjJaU0",
        "colab_type": "code",
        "colab": {
          "base_uri": "https://localhost:8080/",
          "height": 85
        },
        "outputId": "5ac1f497-0619-4a78-eb2b-d0c3acd8c764"
      },
      "source": [
        "(2 * mps)[0]"
      ],
      "execution_count": 10,
      "outputs": [
        {
          "output_type": "execute_result",
          "data": {
            "text/plain": [
              "  0 (Q=) (< N=0 SZ=0 PG=0 >, < N=0 SZ=0 PG=0 >) (R=) array([[0.74781006]])\n",
              "  1 (Q=) (< N=1 SZ=1/2 PG=0 >, < N=1 SZ=1/2 PG=0 >) (R=) array([[-1.20034045]])\n",
              "  2 (Q=) (< N=1 SZ=-1/2 PG=0 >, < N=1 SZ=-1/2 PG=0 >) (R=) array([[1.20032426]])\n",
              "  3 (Q=) (< N=2 SZ=0 PG=0 >, < N=2 SZ=0 PG=0 >) (R=) array([[0.74778645]])"
            ]
          },
          "metadata": {
            "tags": []
          },
          "execution_count": 10
        }
      ]
    },
    {
      "cell_type": "markdown",
      "metadata": {
        "id": "xN4MkSMRKcQD",
        "colab_type": "text"
      },
      "source": [
        "### MPS Addition"
      ]
    },
    {
      "cell_type": "markdown",
      "metadata": {
        "id": "8ZLnJkSXKl2l",
        "colab_type": "text"
      },
      "source": [
        "MPS addition will increase the bond dimension:"
      ]
    },
    {
      "cell_type": "code",
      "metadata": {
        "id": "53JhV4xhJ-z8",
        "colab_type": "code",
        "colab": {
          "base_uri": "https://localhost:8080/",
          "height": 51
        },
        "outputId": "cf00c5a1-2dbd-4d4a-8e55-65c21475c0d6"
      },
      "source": [
        "mps_add = mps + mps\n",
        "print('MPS + MPS = ', mps_add.show_bond_dims())\n",
        "print(mps_add.norm())"
      ],
      "execution_count": 11,
      "outputs": [
        {
          "output_type": "stream",
          "text": [
            "MPS + MPS =  8|32|128|470|128|32|8\n",
            "2.000000000000001\n"
          ],
          "name": "stdout"
        }
      ]
    },
    {
      "cell_type": "markdown",
      "metadata": {
        "id": "9iELFxkXKrXa",
        "colab_type": "text"
      },
      "source": [
        "Check the overlap `<2MPS|MPS+MPS>`:"
      ]
    },
    {
      "cell_type": "code",
      "metadata": {
        "id": "jq1xE9NPKo4F",
        "colab_type": "code",
        "colab": {
          "base_uri": "https://localhost:8080/",
          "height": 68
        },
        "outputId": "99072b8a-8cbf-4ad1-c837-495d822aa696"
      },
      "source": [
        "%%time\n",
        "mps_add @ (2 * mps)"
      ],
      "execution_count": 12,
      "outputs": [
        {
          "output_type": "stream",
          "text": [
            "CPU times: user 22 ms, sys: 0 ns, total: 22 ms\n",
            "Wall time: 23.1 ms\n"
          ],
          "name": "stdout"
        },
        {
          "output_type": "execute_result",
          "data": {
            "text/plain": [
              "4.000000000000004"
            ]
          },
          "metadata": {
            "tags": []
          },
          "execution_count": 12
        }
      ]
    },
    {
      "cell_type": "markdown",
      "metadata": {
        "id": "Nuj3uG8WLbx_",
        "colab_type": "text"
      },
      "source": [
        "### MPS Canonicalization"
      ]
    },
    {
      "cell_type": "markdown",
      "metadata": {
        "id": "RhZWWSsJLgBI",
        "colab_type": "text"
      },
      "source": [
        "Left canonicalization:"
      ]
    },
    {
      "cell_type": "code",
      "metadata": {
        "id": "vql4m5uqLB-X",
        "colab_type": "code",
        "colab": {
          "base_uri": "https://localhost:8080/",
          "height": 34
        },
        "outputId": "62e1a1c7-62aa-48d8-da09-b61ec6dd2698"
      },
      "source": [
        "lmps = mps_add.deep_copy()\n",
        "lmps.canonicalize(center=mps_add.n_sites - 1)\n",
        "print('L-MPS = ', lmps.show_bond_dims())"
      ],
      "execution_count": 13,
      "outputs": [
        {
          "output_type": "stream",
          "text": [
            "L-MPS =  4|16|64|255|128|32|8\n"
          ],
          "name": "stdout"
        }
      ]
    },
    {
      "cell_type": "markdown",
      "metadata": {
        "id": "k6Ek0HfoLpyj",
        "colab_type": "text"
      },
      "source": [
        "Right canonicalization:"
      ]
    },
    {
      "cell_type": "code",
      "metadata": {
        "id": "8dxiwWBLLo0m",
        "colab_type": "code",
        "colab": {
          "base_uri": "https://localhost:8080/",
          "height": 34
        },
        "outputId": "b59c119a-b545-4599-def8-66443f53477a"
      },
      "source": [
        "rmps = mps_add.deep_copy()\n",
        "rmps.canonicalize(center=0)\n",
        "print('R-MPS = ', rmps.show_bond_dims())"
      ],
      "execution_count": 14,
      "outputs": [
        {
          "output_type": "stream",
          "text": [
            "R-MPS =  8|32|128|255|64|16|4\n"
          ],
          "name": "stdout"
        }
      ]
    },
    {
      "cell_type": "markdown",
      "metadata": {
        "id": "dwolqul1LyKr",
        "colab_type": "text"
      },
      "source": [
        "Check the overlap `<LMPS|RMPS>`:"
      ]
    },
    {
      "cell_type": "code",
      "metadata": {
        "id": "_HjfH-EhLvIT",
        "colab_type": "code",
        "colab": {
          "base_uri": "https://localhost:8080/",
          "height": 68
        },
        "outputId": "b5e33ff2-966a-4e71-b6af-1cb8a6b03ef2"
      },
      "source": [
        "%%time\n",
        "lmps @ rmps"
      ],
      "execution_count": 15,
      "outputs": [
        {
          "output_type": "stream",
          "text": [
            "CPU times: user 23.2 ms, sys: 0 ns, total: 23.2 ms\n",
            "Wall time: 24.7 ms\n"
          ],
          "name": "stdout"
        },
        {
          "output_type": "execute_result",
          "data": {
            "text/plain": [
              "4.000000000000005"
            ]
          },
          "metadata": {
            "tags": []
          },
          "execution_count": 15
        }
      ]
    },
    {
      "cell_type": "markdown",
      "metadata": {
        "id": "QQikO5DfMHtt",
        "colab_type": "text"
      },
      "source": [
        "### MPS Compression"
      ]
    },
    {
      "cell_type": "markdown",
      "metadata": {
        "id": "d6ce7jzpMTPX",
        "colab_type": "text"
      },
      "source": [
        "Compression will first do canonicalization from left to right, then do SVD from right to left.\n",
        "\n",
        "This can further decrease bond dimension of MPS."
      ]
    },
    {
      "cell_type": "code",
      "metadata": {
        "id": "SK1JduovL6W8",
        "colab_type": "code",
        "colab": {
          "base_uri": "https://localhost:8080/",
          "height": 68
        },
        "outputId": "463c3725-1f1f-4bdb-8540-a77f72327cfa"
      },
      "source": [
        "print('MPS + MPS = ', mps_add.show_bond_dims())\n",
        "mps_add.compress(cutoff=1E-12)\n",
        "print('MPS + MPS = ', mps_add.show_bond_dims())\n",
        "print(mps_add.norm())"
      ],
      "execution_count": 16,
      "outputs": [
        {
          "output_type": "stream",
          "text": [
            "MPS + MPS =  8|32|128|470|128|32|8\n",
            "MPS + MPS =  4|16|64|235|64|16|4\n",
            "2.0000000000000027\n"
          ],
          "name": "stdout"
        }
      ]
    },
    {
      "cell_type": "markdown",
      "metadata": {
        "id": "jVqD6mwhMrJw",
        "colab_type": "text"
      },
      "source": [
        "### MPS Subtraction"
      ]
    },
    {
      "cell_type": "markdown",
      "metadata": {
        "id": "MBNakk-dM1aX",
        "colab_type": "text"
      },
      "source": [
        "Subtractoin will also increase bond dimension:"
      ]
    },
    {
      "cell_type": "code",
      "metadata": {
        "id": "suE5m0aWMOjJ",
        "colab_type": "code",
        "colab": {
          "base_uri": "https://localhost:8080/",
          "height": 34
        },
        "outputId": "2153b102-4ea8-4f8b-bdf2-697aa55745f2"
      },
      "source": [
        "mps_minus = mps - mps\n",
        "print('MPS - MPS = ', mps_minus.show_bond_dims())"
      ],
      "execution_count": 17,
      "outputs": [
        {
          "output_type": "stream",
          "text": [
            "MPS - MPS =  8|32|128|470|128|32|8\n"
          ],
          "name": "stdout"
        }
      ]
    },
    {
      "cell_type": "markdown",
      "metadata": {
        "id": "Kw-57MI1M6At",
        "colab_type": "text"
      },
      "source": [
        "After compression, this is zero:"
      ]
    },
    {
      "cell_type": "code",
      "metadata": {
        "id": "BnEf7ifKM46k",
        "colab_type": "code",
        "colab": {
          "base_uri": "https://localhost:8080/",
          "height": 51
        },
        "outputId": "4c28b17f-7672-4424-960a-b9bdb7b37ce2"
      },
      "source": [
        "mps_minus.compress(cutoff=1E-12)\n",
        "print('MPS - MPS = ', mps_minus.show_bond_dims())\n",
        "print(mps_minus.norm())"
      ],
      "execution_count": 18,
      "outputs": [
        {
          "output_type": "stream",
          "text": [
            "MPS - MPS =  0|0|0|0|0|0|0\n",
            "0.0\n"
          ],
          "name": "stdout"
        }
      ]
    },
    {
      "cell_type": "markdown",
      "metadata": {
        "id": "voQjP9_KND0h",
        "colab_type": "text"
      },
      "source": [
        "### MPS Bond Dimension Truncation"
      ]
    },
    {
      "cell_type": "markdown",
      "metadata": {
        "id": "L--Eh477NIKF",
        "colab_type": "text"
      },
      "source": [
        "Apply MPO two times to MPS:"
      ]
    },
    {
      "cell_type": "code",
      "metadata": {
        "id": "kt1cp62tM8Lp",
        "colab_type": "code",
        "colab": {
          "base_uri": "https://localhost:8080/",
          "height": 85
        },
        "outputId": "0ad7d275-eaa9-4dae-f706-bbaabf794f1c"
      },
      "source": [
        "%%time\n",
        "hhmps = mpo @ (mpo @ mps)\n",
        "print(hhmps.show_bond_dims())\n",
        "print(np.sqrt(hhmps @ mps))"
      ],
      "execution_count": 19,
      "outputs": [
        {
          "output_type": "stream",
          "text": [
            "144|576|2304|8460|2304|576|144\n",
            "6.2256341345763895\n",
            "CPU times: user 676 ms, sys: 76.6 ms, total: 753 ms\n",
            "Wall time: 692 ms\n"
          ],
          "name": "stdout"
        }
      ]
    },
    {
      "cell_type": "markdown",
      "metadata": {
        "id": "xIICRSWzNheK",
        "colab_type": "text"
      },
      "source": [
        "MPS compression can be used to reduce bond dimension (to FCI):"
      ]
    },
    {
      "cell_type": "code",
      "metadata": {
        "id": "McO4EKZ8NNa8",
        "colab_type": "code",
        "colab": {
          "base_uri": "https://localhost:8080/",
          "height": 102
        },
        "outputId": "62ecd9fa-f3c6-4715-da3e-3610457d66b6"
      },
      "source": [
        "%%time\n",
        "cps_error = hhmps.compress(cutoff=1E-12)\n",
        "print('error = ', cps_error)\n",
        "print(hhmps.show_bond_dims())\n",
        "print(np.sqrt(hhmps @ mps))"
      ],
      "execution_count": 20,
      "outputs": [
        {
          "output_type": "stream",
          "text": [
            "error =  0.0\n",
            "4|16|64|256|64|16|4\n",
            "6.225634134576391\n",
            "CPU times: user 209 ms, sys: 141 ms, total: 350 ms\n",
            "Wall time: 184 ms\n"
          ],
          "name": "stdout"
        }
      ]
    },
    {
      "cell_type": "markdown",
      "metadata": {
        "id": "vmfvTwL-N17E",
        "colab_type": "text"
      },
      "source": [
        "Truncation to bond dimension 100 will introduce a small error:"
      ]
    },
    {
      "cell_type": "code",
      "metadata": {
        "id": "GT7GjfDANx3y",
        "colab_type": "code",
        "colab": {
          "base_uri": "https://localhost:8080/",
          "height": 68
        },
        "outputId": "66eb988f-8f00-4a13-f72a-d7ad1cc1fe3b"
      },
      "source": [
        "cps_error = hhmps.compress(k=100, cutoff=1E-12)\n",
        "print('error = ', cps_error)\n",
        "print(hhmps.show_bond_dims())\n",
        "print(np.sqrt(hhmps @ mps))"
      ],
      "execution_count": 21,
      "outputs": [
        {
          "output_type": "stream",
          "text": [
            "error =  0.00135950632741534\n",
            "4|16|64|100|64|16|4\n",
            "6.225634131631153\n"
          ],
          "name": "stdout"
        }
      ]
    },
    {
      "cell_type": "markdown",
      "metadata": {
        "id": "sPIXnhzdOCDr",
        "colab_type": "text"
      },
      "source": [
        "Truncation to bond dimension 30 will introduce a larger error:"
      ]
    },
    {
      "cell_type": "code",
      "metadata": {
        "id": "0_C4n8htN_u4",
        "colab_type": "code",
        "colab": {
          "base_uri": "https://localhost:8080/",
          "height": 68
        },
        "outputId": "dcbc2474-95cd-4874-d93e-5a240dc337a0"
      },
      "source": [
        "cps_error = hhmps.compress(k=30, cutoff=1E-12)\n",
        "print('error = ', cps_error)\n",
        "print(hhmps.show_bond_dims())\n",
        "print(np.sqrt(hhmps @ mps))"
      ],
      "execution_count": 22,
      "outputs": [
        {
          "output_type": "stream",
          "text": [
            "error =  0.12822806032019754\n",
            "4|16|30|30|30|16|4\n",
            "6.22553507208518\n"
          ],
          "name": "stdout"
        }
      ]
    },
    {
      "cell_type": "markdown",
      "metadata": {
        "id": "27-2lyRQOfPq",
        "colab_type": "text"
      },
      "source": [
        "### MPO-MPO Contraction"
      ]
    },
    {
      "cell_type": "markdown",
      "metadata": {
        "id": "8QSePVUjOlMf",
        "colab_type": "text"
      },
      "source": [
        "One can also first contract two MPO:"
      ]
    },
    {
      "cell_type": "code",
      "metadata": {
        "id": "7XRiYH85OGuy",
        "colab_type": "code",
        "colab": {
          "base_uri": "https://localhost:8080/",
          "height": 68
        },
        "outputId": "89e92783-5709-4c7a-b9dc-bdcc47be1a41"
      },
      "source": [
        "%%time\n",
        "h2 = mpo @ mpo\n",
        "print(h2.show_bond_dims())"
      ],
      "execution_count": 23,
      "outputs": [
        {
          "output_type": "stream",
          "text": [
            "36|36|36|36|36|36|36\n",
            "CPU times: user 216 ms, sys: 6.05 ms, total: 222 ms\n",
            "Wall time: 223 ms\n"
          ],
          "name": "stdout"
        }
      ]
    },
    {
      "cell_type": "markdown",
      "metadata": {
        "id": "WCI3tciVOxuY",
        "colab_type": "text"
      },
      "source": [
        "Check expectation value:"
      ]
    },
    {
      "cell_type": "code",
      "metadata": {
        "id": "WMTrciTqOpbZ",
        "colab_type": "code",
        "colab": {
          "base_uri": "https://localhost:8080/",
          "height": 68
        },
        "outputId": "96cffd9d-327b-458a-f08a-7ff11c96a6f3"
      },
      "source": [
        "%%time\n",
        "print(np.sqrt((h2 @ mps) @ mps))"
      ],
      "execution_count": 24,
      "outputs": [
        {
          "output_type": "stream",
          "text": [
            "6.22563413457639\n",
            "CPU times: user 730 ms, sys: 52.6 ms, total: 783 ms\n",
            "Wall time: 725 ms\n"
          ],
          "name": "stdout"
        }
      ]
    },
    {
      "cell_type": "markdown",
      "metadata": {
        "id": "_wMCmJ1YPmOo",
        "colab_type": "text"
      },
      "source": [
        "### MPO Bond Dimension Truncation"
      ]
    },
    {
      "cell_type": "markdown",
      "metadata": {
        "id": "jQkVv89AO3mG",
        "colab_type": "text"
      },
      "source": [
        "Compression MPO (keeping accuracy):"
      ]
    },
    {
      "cell_type": "code",
      "metadata": {
        "id": "VoQlOIPHOzN5",
        "colab_type": "code",
        "colab": {
          "base_uri": "https://localhost:8080/",
          "height": 68
        },
        "outputId": "5e0eef35-2a55-49e6-a581-2b889d0140a9"
      },
      "source": [
        "cps_error = h2.compress(cutoff=1E-12)\n",
        "print('error = ', cps_error)\n",
        "print(h2.show_bond_dims())\n",
        "print(np.sqrt((h2 @ mps) @ mps))"
      ],
      "execution_count": 25,
      "outputs": [
        {
          "output_type": "stream",
          "text": [
            "error =  1.725092949971858e-13\n",
            "16|17|17|17|17|17|16\n",
            "6.2256341345763895\n"
          ],
          "name": "stdout"
        }
      ]
    },
    {
      "cell_type": "markdown",
      "metadata": {
        "id": "vt9pNlKTPDXr",
        "colab_type": "text"
      },
      "source": [
        "MPO Truncated to bond dimension 15:"
      ]
    },
    {
      "cell_type": "code",
      "metadata": {
        "id": "XdMQayQrO_SW",
        "colab_type": "code",
        "colab": {
          "base_uri": "https://localhost:8080/",
          "height": 68
        },
        "outputId": "588ed89b-7f81-49c5-ba0e-8c7c3a2e7f4e"
      },
      "source": [
        "cps_error = h2.compress(k=15, cutoff=1E-12)\n",
        "print('error = ', cps_error)\n",
        "print(h2.show_bond_dims())\n",
        "print(np.sqrt((h2 @ mps) @ mps))"
      ],
      "execution_count": 26,
      "outputs": [
        {
          "output_type": "stream",
          "text": [
            "error =  173.35865814081157\n",
            "15|15|15|15|15|15|15\n",
            "6.097436276051796\n"
          ],
          "name": "stdout"
        }
      ]
    },
    {
      "cell_type": "markdown",
      "metadata": {
        "id": "Sv3U7BGiPYVm",
        "colab_type": "text"
      },
      "source": [
        "MPO Truncated to bond dimension 12:"
      ]
    },
    {
      "cell_type": "code",
      "metadata": {
        "id": "kZc0ohbUPKla",
        "colab_type": "code",
        "colab": {
          "base_uri": "https://localhost:8080/",
          "height": 68
        },
        "outputId": "58c26b5f-7e67-4f99-c6a3-ca8249137d4b"
      },
      "source": [
        "cps_error = h2.compress(k=12, cutoff=1E-12)\n",
        "print('error = ', cps_error)\n",
        "print(h2.show_bond_dims())\n",
        "print(np.sqrt((h2 @ mps) @ mps))"
      ],
      "execution_count": 27,
      "outputs": [
        {
          "output_type": "stream",
          "text": [
            "error =  221.69663116602277\n",
            "12|12|12|12|12|12|12\n",
            "5.763720368829762\n"
          ],
          "name": "stdout"
        }
      ]
    },
    {
      "cell_type": "markdown",
      "metadata": {
        "id": "2p8B55xJPxKI",
        "colab_type": "text"
      },
      "source": [
        "# N2 (10o, 7e) (STO3G)"
      ]
    },
    {
      "cell_type": "markdown",
      "metadata": {
        "id": "p3rs7-pnQeYl",
        "colab_type": "text"
      },
      "source": [
        "### Initialization"
      ]
    },
    {
      "cell_type": "markdown",
      "metadata": {
        "id": "0aD1JaL4QG7C",
        "colab_type": "text"
      },
      "source": [
        "Get ground-state MPS (from FCIDUMP):"
      ]
    },
    {
      "cell_type": "code",
      "metadata": {
        "id": "pRxz-D5LPaQL",
        "colab_type": "code",
        "colab": {
          "base_uri": "https://localhost:8080/",
          "height": 68
        },
        "outputId": "581990f1-11c7-4c44-af2c-8ffcaf44f612"
      },
      "source": [
        "%%time\n",
        "with HamilTools.from_fcidump('data/N2.STO3G.FCIDUMP') as hamil:\n",
        "    mps = hamil.get_ground_state_mps(bond_dim=250)\n",
        "    mpo = hamil.get_mpo()\n",
        "    orb_sym = hamil.hamil.orb_sym"
      ],
      "execution_count": 28,
      "outputs": [
        {
          "output_type": "stream",
          "text": [
            "Ground State Energy =  -107.65412244667549\n",
            "CPU times: user 1.54 s, sys: 101 ms, total: 1.64 s\n",
            "Wall time: 1.57 s\n"
          ],
          "name": "stdout"
        }
      ]
    },
    {
      "cell_type": "markdown",
      "metadata": {
        "id": "ut2iwHvdQMP3",
        "colab_type": "text"
      },
      "source": [
        "Check MPO:"
      ]
    },
    {
      "cell_type": "code",
      "metadata": {
        "id": "bMxaZwasQDU_",
        "colab_type": "code",
        "colab": {
          "base_uri": "https://localhost:8080/",
          "height": 51
        },
        "outputId": "87491ccd-5e0a-4e1a-e953-f4b0e0aa17d5"
      },
      "source": [
        "print('MPO = ', mpo.show_bond_dims())\n",
        "mpo.compress(cutoff=1E-12)\n",
        "print('MPO = ', mpo.show_bond_dims())"
      ],
      "execution_count": 29,
      "outputs": [
        {
          "output_type": "stream",
          "text": [
            "MPO =  54|90|150|234|342|474|630|810|1014\n",
            "MPO =  16|42|80|90|80|62|67|30|12\n"
          ],
          "name": "stdout"
        }
      ]
    },
    {
      "cell_type": "markdown",
      "metadata": {
        "id": "wfsbChLsQRIX",
        "colab_type": "text"
      },
      "source": [
        "Check MPS:"
      ]
    },
    {
      "cell_type": "code",
      "metadata": {
        "id": "X5z6kAwMQON1",
        "colab_type": "code",
        "colab": {
          "base_uri": "https://localhost:8080/",
          "height": 51
        },
        "outputId": "ffa4b57b-74d0-4bef-c1c0-8f0f756c2fbc"
      },
      "source": [
        "print('MPS = ', mps.show_bond_dims())\n",
        "print(mps.norm())"
      ],
      "execution_count": 30,
      "outputs": [
        {
          "output_type": "stream",
          "text": [
            "MPS =  4|16|50|78|62|43|30|8|4\n",
            "1.0\n"
          ],
          "name": "stdout"
        }
      ]
    },
    {
      "cell_type": "markdown",
      "metadata": {
        "id": "srOpUJV9QVZy",
        "colab_type": "text"
      },
      "source": [
        "Check ground-state energy:"
      ]
    },
    {
      "cell_type": "code",
      "metadata": {
        "id": "ggK-et6IQS7e",
        "colab_type": "code",
        "colab": {
          "base_uri": "https://localhost:8080/",
          "height": 68
        },
        "outputId": "3f791b72-7810-419e-e6b1-6d7679c459f6"
      },
      "source": [
        "%%time\n",
        "mps @ mpo @ mps"
      ],
      "execution_count": 31,
      "outputs": [
        {
          "output_type": "stream",
          "text": [
            "CPU times: user 835 ms, sys: 110 ms, total: 945 ms\n",
            "Wall time: 875 ms\n"
          ],
          "name": "stdout"
        },
        {
          "output_type": "execute_result",
          "data": {
            "text/plain": [
              "-107.6541224466753"
            ]
          },
          "metadata": {
            "tags": []
          },
          "execution_count": 31
        }
      ]
    },
    {
      "cell_type": "markdown",
      "metadata": {
        "id": "pJ842HuIQtaJ",
        "colab_type": "text"
      },
      "source": [
        "### MPO-MPS Contraction"
      ]
    },
    {
      "cell_type": "code",
      "metadata": {
        "id": "RzFe5TWuQZmq",
        "colab_type": "code",
        "colab": {
          "base_uri": "https://localhost:8080/",
          "height": 85
        },
        "outputId": "de1affcc-87ec-4ee4-e3b7-08e128afa287"
      },
      "source": [
        "%%time\n",
        "hmps = mpo @ mps\n",
        "print(hmps.show_bond_dims())\n",
        "print(hmps.norm())"
      ],
      "execution_count": 32,
      "outputs": [
        {
          "output_type": "stream",
          "text": [
            "68|688|4050|7098|5022|2709|2040|248|52\n",
            "107.65412244669304\n",
            "CPU times: user 1.58 s, sys: 233 ms, total: 1.82 s\n",
            "Wall time: 1.28 s\n"
          ],
          "name": "stdout"
        }
      ]
    },
    {
      "cell_type": "markdown",
      "metadata": {
        "id": "2hMcIP5HQ4n1",
        "colab_type": "text"
      },
      "source": [
        "The result MPS can be compressed:"
      ]
    },
    {
      "cell_type": "code",
      "metadata": {
        "id": "njonXT42QyRP",
        "colab_type": "code",
        "colab": {
          "base_uri": "https://localhost:8080/",
          "height": 51
        },
        "outputId": "2f93fec9-33e0-4003-9b48-d8717f05c9c9"
      },
      "source": [
        "hmps.compress(cutoff=1E-12)\n",
        "print(hmps.show_bond_dims())\n",
        "print(hmps.norm())"
      ],
      "execution_count": 33,
      "outputs": [
        {
          "output_type": "stream",
          "text": [
            "4|16|58|106|96|50|30|8|4\n",
            "107.65412244669302\n"
          ],
          "name": "stdout"
        }
      ]
    },
    {
      "cell_type": "markdown",
      "metadata": {
        "id": "CqCIUL9nRFWn",
        "colab_type": "text"
      },
      "source": [
        "MPO truncation to bond dimension 50:"
      ]
    },
    {
      "cell_type": "code",
      "metadata": {
        "id": "9EYqNdPtRAfy",
        "colab_type": "code",
        "colab": {
          "base_uri": "https://localhost:8080/",
          "height": 51
        },
        "outputId": "108af112-fa96-4ef3-c116-75e45dc95fc4"
      },
      "source": [
        "cmpo = mpo.deep_copy()\n",
        "cps_error = cmpo.compress(k=50, cutoff=1E-12)\n",
        "print('error = ', cps_error)\n",
        "print(cmpo.show_bond_dims())"
      ],
      "execution_count": 34,
      "outputs": [
        {
          "output_type": "stream",
          "text": [
            "error =  234.6641660949853\n",
            "16|42|50|50|50|50|50|30|12\n"
          ],
          "name": "stdout"
        }
      ]
    },
    {
      "cell_type": "markdown",
      "metadata": {
        "id": "ks7Wi-apRPdX",
        "colab_type": "text"
      },
      "source": [
        "Apply contracted MPO to MPS:"
      ]
    },
    {
      "cell_type": "code",
      "metadata": {
        "id": "z9z-IZJvRMXV",
        "colab_type": "code",
        "colab": {
          "base_uri": "https://localhost:8080/",
          "height": 51
        },
        "outputId": "c201b6ba-a350-4c0a-f392-123af0b13e40"
      },
      "source": [
        "hmps = cmpo @ mps\n",
        "print(hmps.show_bond_dims())\n",
        "print(hmps.norm())"
      ],
      "execution_count": 35,
      "outputs": [
        {
          "output_type": "stream",
          "text": [
            "68|688|2550|3978|3162|2193|1530|248|52\n",
            "107.60510153352527\n"
          ],
          "name": "stdout"
        }
      ]
    },
    {
      "cell_type": "markdown",
      "metadata": {
        "id": "IkTuzJQ_RY9f",
        "colab_type": "text"
      },
      "source": [
        "### Determinants"
      ]
    },
    {
      "cell_type": "markdown",
      "metadata": {
        "id": "Tz5dNwMCRfZf",
        "colab_type": "text"
      },
      "source": [
        "MPS can be created from occupation numbers:"
      ]
    },
    {
      "cell_type": "code",
      "metadata": {
        "id": "8eTY31YJRR1A",
        "colab_type": "code",
        "colab": {
          "base_uri": "https://localhost:8080/",
          "height": 34
        },
        "outputId": "88086d8d-5056-4f47-d1c6-2fc4fc97f93a"
      },
      "source": [
        "det1 = HamilTools.get_determinant_mps([\n",
        "    1, 1, 1, 1, 0, 0, 1, 1, 0, 0,\n",
        "    1, 1, 1, 1, 1, 1, 1, 1, 0, 0], orb_sym)\n",
        "print('DET1 = ', det1.show_bond_dims())"
      ],
      "execution_count": 36,
      "outputs": [
        {
          "output_type": "stream",
          "text": [
            "DET1 =  1|1|1|1|1|1|1|1|1\n"
          ],
          "name": "stdout"
        }
      ]
    },
    {
      "cell_type": "markdown",
      "metadata": {
        "id": "mutUPyZWRqxy",
        "colab_type": "text"
      },
      "source": [
        "Check the overlap:"
      ]
    },
    {
      "cell_type": "code",
      "metadata": {
        "id": "MvB1D4e-RpmX",
        "colab_type": "code",
        "colab": {
          "base_uri": "https://localhost:8080/",
          "height": 34
        },
        "outputId": "b87d4629-c662-4ab6-cf7b-bb91806b13cb"
      },
      "source": [
        "print(det1 @ mps)"
      ],
      "execution_count": 37,
      "outputs": [
        {
          "output_type": "stream",
          "text": [
            "-0.002059485244140836\n"
          ],
          "name": "stdout"
        }
      ]
    },
    {
      "cell_type": "markdown",
      "metadata": {
        "id": "CFD13FSLRvrZ",
        "colab_type": "text"
      },
      "source": [
        "If the determinant belongs to another symmetry sector, the overlap should be zero:"
      ]
    },
    {
      "cell_type": "code",
      "metadata": {
        "id": "jnVb1xnIRtWv",
        "colab_type": "code",
        "colab": {
          "base_uri": "https://localhost:8080/",
          "height": 51
        },
        "outputId": "8befe590-4ea8-42a7-bec4-af8bc590f041"
      },
      "source": [
        "det2 = HamilTools.get_determinant_mps([\n",
        "    1, 1, 1, 1, 0, 0, 0, 0, 0, 0,\n",
        "    1, 1, 1, 1, 1, 1, 1, 1, 0, 0], orb_sym)\n",
        "print('DET2 = ', det2.show_bond_dims())\n",
        "print(det2 @ mps)"
      ],
      "execution_count": 38,
      "outputs": [
        {
          "output_type": "stream",
          "text": [
            "DET2 =  1|1|1|1|1|1|1|1|1\n",
            "0.0\n"
          ],
          "name": "stdout"
        }
      ]
    },
    {
      "cell_type": "markdown",
      "metadata": {
        "id": "gCcFlnTgSH1b",
        "colab_type": "text"
      },
      "source": [
        "Check the overlap for all doubly occupied determinants:"
      ]
    },
    {
      "cell_type": "code",
      "metadata": {
        "id": "4D0B37jPR6lb",
        "colab_type": "code",
        "colab": {
          "base_uri": "https://localhost:8080/",
          "height": 1000
        },
        "outputId": "a2763bf2-eedd-4e0e-c387-e453da7bf3ab"
      },
      "source": [
        "%%time\n",
        "coeffs = []\n",
        "for ocp in itertools.combinations(range(10), 7):\n",
        "    det = [0] * mps.n_sites * 2\n",
        "    for t in ocp:\n",
        "        det[t * 2] = det[t * 2 + 1] = 1\n",
        "    det_mps = HamilTools.get_determinant_mps(det, orb_sym)\n",
        "    coeffs.append(det_mps @ mps)\n",
        "    print(np.array(det).reshape((-1, 2)).sum(axis=1), \"%10.5f\" % coeffs[-1])"
      ],
      "execution_count": 39,
      "outputs": [
        {
          "output_type": "stream",
          "text": [
            "[2 2 2 2 2 2 2 0 0 0]    0.01154\n",
            "[2 2 2 2 2 2 0 2 0 0]   -0.00186\n",
            "[2 2 2 2 2 2 0 0 2 0]    0.01156\n",
            "[2 2 2 2 2 2 0 0 0 2]   -0.00186\n",
            "[2 2 2 2 2 0 2 2 0 0]    0.01270\n",
            "[2 2 2 2 2 0 2 0 2 0]   -0.95751\n",
            "[2 2 2 2 2 0 2 0 0 2]    0.13129\n",
            "[2 2 2 2 2 0 0 2 2 0]    0.13129\n",
            "[2 2 2 2 2 0 0 2 0 2]   -0.03846\n",
            "[2 2 2 2 2 0 0 0 2 2]    0.01270\n",
            "[2 2 2 2 0 2 2 2 0 0]   -0.00086\n",
            "[2 2 2 2 0 2 2 0 2 0]    0.01314\n",
            "[2 2 2 2 0 2 2 0 0 2]   -0.00241\n",
            "[2 2 2 2 0 2 0 2 2 0]   -0.00241\n",
            "[2 2 2 2 0 2 0 2 0 2]    0.00056\n",
            "[2 2 2 2 0 2 0 0 2 2]   -0.00086\n",
            "[2 2 2 2 0 0 2 2 2 0]    0.05471\n",
            "[2 2 2 2 0 0 2 2 0 2]   -0.00684\n",
            "[2 2 2 2 0 0 2 0 2 2]    0.05471\n",
            "[2 2 2 2 0 0 0 2 2 2]   -0.00684\n",
            "[2 2 2 0 2 2 2 2 0 0]   -0.00002\n",
            "[2 2 2 0 2 2 2 0 2 0]    0.00099\n",
            "[2 2 2 0 2 2 2 0 0 2]   -0.00014\n",
            "[2 2 2 0 2 2 0 2 2 0]   -0.00014\n",
            "[2 2 2 0 2 2 0 2 0 2]    0.00004\n",
            "[2 2 2 0 2 2 0 0 2 2]   -0.00002\n",
            "[2 2 2 0 2 0 2 2 2 0]    0.00032\n",
            "[2 2 2 0 2 0 2 2 0 2]   -0.00005\n",
            "[2 2 2 0 2 0 2 0 2 2]    0.00032\n",
            "[2 2 2 0 2 0 0 2 2 2]   -0.00005\n",
            "[2 2 2 0 0 2 2 2 2 0]   -0.00006\n",
            "[2 2 2 0 0 2 2 2 0 2]    0.00001\n",
            "[2 2 2 0 0 2 2 0 2 2]   -0.00006\n",
            "[2 2 2 0 0 2 0 2 2 2]    0.00001\n",
            "[2 2 2 0 0 0 2 2 2 2]   -0.00004\n",
            "[2 2 0 2 2 2 2 2 0 0]   -0.00072\n",
            "[2 2 0 2 2 2 2 0 2 0]    0.02699\n",
            "[2 2 0 2 2 2 2 0 0 2]   -0.00682\n",
            "[2 2 0 2 2 2 0 2 2 0]   -0.00682\n",
            "[2 2 0 2 2 2 0 2 0 2]    0.00366\n",
            "[2 2 0 2 2 2 0 0 2 2]   -0.00073\n",
            "[2 2 0 2 2 0 2 2 2 0]    0.02517\n",
            "[2 2 0 2 2 0 2 2 0 2]   -0.00208\n",
            "[2 2 0 2 2 0 2 0 2 2]    0.02517\n",
            "[2 2 0 2 2 0 0 2 2 2]   -0.00208\n",
            "[2 2 0 2 0 2 2 2 2 0]   -0.00206\n",
            "[2 2 0 2 0 2 2 2 0 2]    0.00044\n",
            "[2 2 0 2 0 2 2 0 2 2]   -0.00206\n",
            "[2 2 0 2 0 2 0 2 2 2]    0.00044\n",
            "[2 2 0 2 0 0 2 2 2 2]   -0.00503\n",
            "[2 2 0 0 2 2 2 2 2 0]   -0.00003\n",
            "[2 2 0 0 2 2 2 2 0 2]    0.00000\n",
            "[2 2 0 0 2 2 2 0 2 2]   -0.00003\n",
            "[2 2 0 0 2 2 0 2 2 2]    0.00000\n",
            "[2 2 0 0 2 0 2 2 2 2]   -0.00002\n",
            "[2 2 0 0 0 2 2 2 2 2]    0.00001\n",
            "[2 0 2 2 2 2 2 2 0 0]   -0.00047\n",
            "[2 0 2 2 2 2 2 0 2 0]    0.02299\n",
            "[2 0 2 2 2 2 2 0 0 2]   -0.00495\n",
            "[2 0 2 2 2 2 0 2 2 0]   -0.00495\n",
            "[2 0 2 2 2 2 0 2 0 2]    0.00216\n",
            "[2 0 2 2 2 2 0 0 2 2]   -0.00047\n",
            "[2 0 2 2 2 0 2 2 2 0]    0.01107\n",
            "[2 0 2 2 2 0 2 2 0 2]   -0.00118\n",
            "[2 0 2 2 2 0 2 0 2 2]    0.01107\n",
            "[2 0 2 2 2 0 0 2 2 2]   -0.00118\n",
            "[2 0 2 2 0 2 2 2 2 0]   -0.00146\n",
            "[2 0 2 2 0 2 2 2 0 2]    0.00026\n",
            "[2 0 2 2 0 2 2 0 2 2]   -0.00146\n",
            "[2 0 2 2 0 2 0 2 2 2]    0.00026\n",
            "[2 0 2 2 0 0 2 2 2 2]   -0.00196\n",
            "[2 0 2 0 2 2 2 2 2 0]   -0.00002\n",
            "[2 0 2 0 2 2 2 2 0 2]    0.00000\n",
            "[2 0 2 0 2 2 2 0 2 2]   -0.00002\n",
            "[2 0 2 0 2 2 0 2 2 2]    0.00000\n",
            "[2 0 2 0 2 0 2 2 2 2]   -0.00001\n",
            "[2 0 2 0 0 2 2 2 2 2]    0.00000\n",
            "[2 0 0 2 2 2 2 2 2 0]   -0.00089\n",
            "[2 0 0 2 2 2 2 2 0 2]   -0.00003\n",
            "[2 0 0 2 2 2 2 0 2 2]   -0.00089\n",
            "[2 0 0 2 2 2 0 2 2 2]   -0.00003\n",
            "[2 0 0 2 2 0 2 2 2 2]   -0.00044\n",
            "[2 0 0 2 0 2 2 2 2 2]    0.00031\n",
            "[2 0 0 0 2 2 2 2 2 2]    0.00000\n",
            "[0 2 2 2 2 2 2 2 0 0]   -0.00002\n",
            "[0 2 2 2 2 2 2 0 2 0]    0.00095\n",
            "[0 2 2 2 2 2 2 0 0 2]   -0.00014\n",
            "[0 2 2 2 2 2 0 2 2 0]   -0.00014\n",
            "[0 2 2 2 2 2 0 2 0 2]    0.00004\n",
            "[0 2 2 2 2 2 0 0 2 2]   -0.00002\n",
            "[0 2 2 2 2 0 2 2 2 0]    0.00030\n",
            "[0 2 2 2 2 0 2 2 0 2]   -0.00004\n",
            "[0 2 2 2 2 0 2 0 2 2]    0.00030\n",
            "[0 2 2 2 2 0 0 2 2 2]   -0.00004\n",
            "[0 2 2 2 0 2 2 2 2 0]   -0.00006\n",
            "[0 2 2 2 0 2 2 2 0 2]    0.00001\n",
            "[0 2 2 2 0 2 2 0 2 2]   -0.00006\n",
            "[0 2 2 2 0 2 0 2 2 2]    0.00001\n",
            "[0 2 2 2 0 0 2 2 2 2]   -0.00004\n",
            "[0 2 2 0 2 2 2 2 2 0]   -0.00000\n",
            "[0 2 2 0 2 2 2 2 0 2]    0.00000\n",
            "[0 2 2 0 2 2 2 0 2 2]   -0.00000\n",
            "[0 2 2 0 2 2 0 2 2 2]    0.00000\n",
            "[0 2 2 0 2 0 2 2 2 2]   -0.00000\n",
            "[0 2 2 0 0 2 2 2 2 2]    0.00000\n",
            "[0 2 0 2 2 2 2 2 2 0]   -0.00003\n",
            "[0 2 0 2 2 2 2 2 0 2]    0.00000\n",
            "[0 2 0 2 2 2 2 0 2 2]   -0.00003\n",
            "[0 2 0 2 2 2 0 2 2 2]    0.00000\n",
            "[0 2 0 2 2 0 2 2 2 2]   -0.00002\n",
            "[0 2 0 2 0 2 2 2 2 2]    0.00001\n",
            "[0 2 0 0 2 2 2 2 2 2]    0.00000\n",
            "[0 0 2 2 2 2 2 2 2 0]   -0.00002\n",
            "[0 0 2 2 2 2 2 2 0 2]    0.00000\n",
            "[0 0 2 2 2 2 2 0 2 2]   -0.00002\n",
            "[0 0 2 2 2 2 0 2 2 2]    0.00000\n",
            "[0 0 2 2 2 0 2 2 2 2]   -0.00001\n",
            "[0 0 2 2 0 2 2 2 2 2]    0.00000\n",
            "[0 0 2 0 2 2 2 2 2 2]    0.00000\n",
            "[0 0 0 2 2 2 2 2 2 2]    0.00000\n",
            "CPU times: user 440 ms, sys: 50.5 ms, total: 490 ms\n",
            "Wall time: 421 ms\n"
          ],
          "name": "stdout"
        }
      ]
    },
    {
      "cell_type": "markdown",
      "metadata": {
        "id": "jMWu3vWZSTou",
        "colab_type": "text"
      },
      "source": [
        "Check the sum of probabilities:"
      ]
    },
    {
      "cell_type": "code",
      "metadata": {
        "id": "cR7kvo1bSOfp",
        "colab_type": "code",
        "colab": {
          "base_uri": "https://localhost:8080/",
          "height": 34
        },
        "outputId": "e3629561-a317-44e2-9d7e-61809cecb926"
      },
      "source": [
        "print((np.array(coeffs) ** 2).sum())"
      ],
      "execution_count": 40,
      "outputs": [
        {
          "output_type": "stream",
          "text": [
            "0.9626219907526998\n"
          ],
          "name": "stdout"
        }
      ]
    },
    {
      "cell_type": "markdown",
      "metadata": {
        "id": "y6lxPXGCmPNo",
        "colab_type": "text"
      },
      "source": [
        "# Finite-Temperature DMRG"
      ]
    },
    {
      "cell_type": "markdown",
      "metadata": {
        "id": "Iwv0LN5f-Zli",
        "colab_type": "text"
      },
      "source": [
        "### Time-Step Targeting Method (Reference)"
      ]
    },
    {
      "cell_type": "markdown",
      "metadata": {
        "id": "UjngqZ4E9n4O",
        "colab_type": "text"
      },
      "source": [
        "Time-step targeting imaginary TE implemented in C++ block2:"
      ]
    },
    {
      "cell_type": "code",
      "metadata": {
        "id": "kMsgrUbomTYE",
        "colab_type": "code",
        "colab": {}
      },
      "source": [
        "def time_step_targeting(hamil, bond_dim=200, beta_step=0.01, mu=-1.0, pattern=False):\n",
        "    from block2 import VectorUInt16, QCTypes, TETypes, SeqTypes, TruncPatternTypes\n",
        "    from block2.sz import (\n",
        "        MPOQC, SimplifiedMPO, AncillaMPO,\n",
        "        RuleQC, MovingEnvironment, ImaginaryTE\n",
        "    )\n",
        "    hamil.hamil.mu = mu\n",
        "    mpo = MPOQC(hamil.hamil, QCTypes.Conventional)\n",
        "    mpo = SimplifiedMPO(AncillaMPO(mpo), RuleQC())\n",
        "    hamil.hamil.opf.seq.mode = SeqTypes.Simple\n",
        "    mpo.const_e = 0.0\n",
        "    with hamil.get_thermal_limit_mps_block2(dot=2) as mps:\n",
        "        me = MovingEnvironment(mpo, mps, mps, \"TE\")\n",
        "        me.init_environments(True)\n",
        "        te = ImaginaryTE(me, VectorUInt16([bond_dim]), TETypes.RK4, 6)\n",
        "        if pattern:\n",
        "            te.trunc_pattern = TruncPatternTypes.TruncAfterOdd\n",
        "        te.solve(1, beta_step / 2, mps.center == 0)\n",
        "        ener = te.energies[-1]\n",
        "    mpo.deallocate()\n",
        "    return ener"
      ],
      "execution_count": 41,
      "outputs": []
    },
    {
      "cell_type": "markdown",
      "metadata": {
        "id": "Qydr1Tei-0_2",
        "colab_type": "text"
      },
      "source": [
        "Perform time-step targeting FT-DMRG for Hydrogen chain (STO6G):\n",
        "\n",
        "(Error is the difference from exact diagonalization result. )"
      ]
    },
    {
      "cell_type": "markdown",
      "metadata": {
        "id": "VKNfYeTd_pqd",
        "colab_type": "text"
      },
      "source": [
        "$\\Delta\\beta = 0.01, M = 200$:"
      ]
    },
    {
      "cell_type": "code",
      "metadata": {
        "id": "EugTIg4l-y8Z",
        "colab_type": "code",
        "colab": {
          "base_uri": "https://localhost:8080/",
          "height": 85
        },
        "outputId": "1ff34f30-bc0e-4aea-c4bd-a1c69d6138bf"
      },
      "source": [
        "%%time\n",
        "with HamilTools.from_fcidump('data/H8.STO6G.R1.8.FCIDUMP') as hamil:\n",
        "    ener = time_step_targeting(hamil, bond_dim=200, beta_step=0.01)\n",
        "    print('Energy = ', ener)\n",
        "    print('Error  = ', ener - 0.2408363230374028)"
      ],
      "execution_count": 42,
      "outputs": [
        {
          "output_type": "stream",
          "text": [
            "Energy =  0.24098644954367984\n",
            "Error  =  0.0001501265062770485\n",
            "CPU times: user 4.24 s, sys: 155 ms, total: 4.39 s\n",
            "Wall time: 4.4 s\n"
          ],
          "name": "stdout"
        }
      ]
    },
    {
      "cell_type": "markdown",
      "metadata": {
        "colab_type": "text",
        "id": "wlmt7rYjAE_S"
      },
      "source": [
        "$\\Delta\\beta = 0.01, M = 500$:"
      ]
    },
    {
      "cell_type": "code",
      "metadata": {
        "id": "H8ZK6sxn_lF0",
        "colab_type": "code",
        "colab": {
          "base_uri": "https://localhost:8080/",
          "height": 85
        },
        "outputId": "faa458c8-6879-4cae-8b12-161eaf0c9889"
      },
      "source": [
        "%%time\n",
        "with HamilTools.from_fcidump('data/H8.STO6G.R1.8.FCIDUMP') as hamil:\n",
        "    ener = time_step_targeting(hamil, bond_dim=500, beta_step=0.01)\n",
        "    print('Energy = ', ener)\n",
        "    print('Error  = ', ener - 0.2408363230374028)"
      ],
      "execution_count": 43,
      "outputs": [
        {
          "output_type": "stream",
          "text": [
            "Energy =  0.24083635000433087\n",
            "Error  =  2.696692807946377e-08\n",
            "CPU times: user 8.37 s, sys: 256 ms, total: 8.63 s\n",
            "Wall time: 8.95 s\n"
          ],
          "name": "stdout"
        }
      ]
    },
    {
      "cell_type": "markdown",
      "metadata": {
        "colab_type": "text",
        "id": "98dBiniEAO9a"
      },
      "source": [
        "$\\Delta\\beta = 0.02, M = 200$:"
      ]
    },
    {
      "cell_type": "code",
      "metadata": {
        "colab_type": "code",
        "id": "_IVkuvgKAO9c",
        "colab": {
          "base_uri": "https://localhost:8080/",
          "height": 85
        },
        "outputId": "2f230cf9-8f8b-4364-b02c-4d95dfe1a505"
      },
      "source": [
        "%%time\n",
        "with HamilTools.from_fcidump('data/H8.STO6G.R1.8.FCIDUMP') as hamil:\n",
        "    ener = time_step_targeting(hamil, bond_dim=200, beta_step=0.02)\n",
        "    print('Energy = ', ener)\n",
        "    print('Error  = ', ener - 0.1711364110139819)"
      ],
      "execution_count": 44,
      "outputs": [
        {
          "output_type": "stream",
          "text": [
            "Energy =  0.17142705521198692\n",
            "Error  =  0.0002906441980050356\n",
            "CPU times: user 6.34 s, sys: 190 ms, total: 6.53 s\n",
            "Wall time: 6.72 s\n"
          ],
          "name": "stdout"
        }
      ]
    },
    {
      "cell_type": "markdown",
      "metadata": {
        "colab_type": "text",
        "id": "HR_obzZqAO9h"
      },
      "source": [
        "$\\Delta\\beta = 0.02, M = 500$:"
      ]
    },
    {
      "cell_type": "code",
      "metadata": {
        "colab_type": "code",
        "id": "rkgtTk-WAO9i",
        "colab": {
          "base_uri": "https://localhost:8080/",
          "height": 85
        },
        "outputId": "7647d546-f851-4a6a-b93f-c791e4824b90"
      },
      "source": [
        "%%time\n",
        "with HamilTools.from_fcidump('data/H8.STO6G.R1.8.FCIDUMP') as hamil:\n",
        "    ener = time_step_targeting(hamil, bond_dim=500, beta_step=0.02)\n",
        "    print('Energy = ', ener)\n",
        "    print('Error  = ', ener - 0.1711364110139819)"
      ],
      "execution_count": 45,
      "outputs": [
        {
          "output_type": "stream",
          "text": [
            "Energy =  0.17113657684061942\n",
            "Error  =  1.6582663753261784e-07\n",
            "CPU times: user 23.1 s, sys: 472 ms, total: 23.6 s\n",
            "Wall time: 24.3 s\n"
          ],
          "name": "stdout"
        }
      ]
    },
    {
      "cell_type": "markdown",
      "metadata": {
        "id": "UnkUYBzyA3m7",
        "colab_type": "text"
      },
      "source": [
        "### Ancilla Approach"
      ]
    },
    {
      "cell_type": "markdown",
      "metadata": {
        "id": "9Osv7TpeBFWE",
        "colab_type": "text"
      },
      "source": [
        "Fourth-order Runge-Kutta:"
      ]
    },
    {
      "cell_type": "code",
      "metadata": {
        "id": "7NduH9rzBW_0",
        "colab_type": "code",
        "colab": {}
      },
      "source": [
        "# apply exp(-beta / 2 * mpo) * mps\n",
        "def rk4_apply(mpo, mps, beta, bond_dim=200):\n",
        "    k1 = (-beta / 2) * (mpo @ mps)\n",
        "    k1.compress(k=bond_dim, cutoff=1E-12)\n",
        "    k2 = (-beta / 2) * (mpo @ (0.5 * k1 + mps))\n",
        "    k2.compress(k=bond_dim, cutoff=1E-12)\n",
        "    k3 = (-beta / 2) * (mpo @ (0.5 * k2 + mps))\n",
        "    k3.compress(k=bond_dim, cutoff=1E-12)\n",
        "    k4 = (-beta / 2) * (mpo @ (k3 + mps))\n",
        "    k4.compress(k=bond_dim, cutoff=1E-12)\n",
        "    mps = mps + (1 / 6) * k1 + (1 / 3) * k2 + (1 / 3) * k3 + (1 / 6) * k4\n",
        "    mps.compress(k=bond_dim, cutoff=1E-12)\n",
        "    return mps"
      ],
      "execution_count": 46,
      "outputs": []
    },
    {
      "cell_type": "markdown",
      "metadata": {
        "id": "quOf9CVAA-9U",
        "colab_type": "text"
      },
      "source": [
        "Load 8-site Hydrogen chain model:"
      ]
    },
    {
      "cell_type": "code",
      "metadata": {
        "id": "MEWdf-2SAaVm",
        "colab_type": "code",
        "colab": {}
      },
      "source": [
        "with HamilTools.from_fcidump('data/H8.STO6G.R1.8.FCIDUMP') as hamil:\n",
        "    mps = hamil.get_thermal_limit_mps()\n",
        "    mpo = hamil.get_mpo(mu=-1.0, ancilla=True)\n",
        "    mpo.const_e = 0.0"
      ],
      "execution_count": 47,
      "outputs": []
    },
    {
      "cell_type": "markdown",
      "metadata": {
        "id": "It6-UklrBf99",
        "colab_type": "text"
      },
      "source": [
        "Check MPS and MPO (number of sites = 16):"
      ]
    },
    {
      "cell_type": "code",
      "metadata": {
        "id": "1WYBFOQzBbaV",
        "colab_type": "code",
        "colab": {
          "base_uri": "https://localhost:8080/",
          "height": 68
        },
        "outputId": "5cec73da-e995-41a2-d477-cadaccd7e682"
      },
      "source": [
        "print('MPS = ', mps.show_bond_dims())\n",
        "print('MPO = ', mpo.show_bond_dims())\n",
        "mpo.compress(cutoff=1E-8)\n",
        "print('MPO = ', mpo.show_bond_dims())"
      ],
      "execution_count": 48,
      "outputs": [
        {
          "output_type": "stream",
          "text": [
            "MPS =  4|1|4|1|4|1|4|1|4|1|4|1|4|1|4\n",
            "MPO =  46|46|82|82|142|142|226|226|334|334|466|466|622|622|1\n",
            "MPO =  16|16|46|46|84|84|122|122|84|84|46|46|16|16|1\n"
          ],
          "name": "stdout"
        }
      ]
    },
    {
      "cell_type": "markdown",
      "metadata": {
        "id": "C8sRM90uCCra",
        "colab_type": "text"
      },
      "source": [
        "Initial MPS energy:"
      ]
    },
    {
      "cell_type": "code",
      "metadata": {
        "id": "St-9WbZ0CFG1",
        "colab_type": "code",
        "colab": {
          "base_uri": "https://localhost:8080/",
          "height": 51
        },
        "outputId": "a6ae4f66-8a42-4b0d-847a-15b4ae0ac672"
      },
      "source": [
        "init_e = (mps | (mpo @ mps)) / (mps | mps)\n",
        "print('Initial Energy = ', init_e)\n",
        "print('Error          = ', init_e - 0.3124038410492045)"
      ],
      "execution_count": 49,
      "outputs": [
        {
          "output_type": "stream",
          "text": [
            "Initial Energy =  0.3124038410492058\n",
            "Error          =  1.3322676295501878e-15\n"
          ],
          "name": "stdout"
        }
      ]
    },
    {
      "cell_type": "markdown",
      "metadata": {
        "id": "ZOu1ZexZCpuh",
        "colab_type": "text"
      },
      "source": [
        "Imaginary-time evolution:"
      ]
    },
    {
      "cell_type": "markdown",
      "metadata": {
        "id": "gQIjVjxqBvXA",
        "colab_type": "text"
      },
      "source": [
        "$\\Delta\\beta = 0.01, M = 200$:"
      ]
    },
    {
      "cell_type": "code",
      "metadata": {
        "id": "KC9s1ph7BloW",
        "colab_type": "code",
        "colab": {
          "base_uri": "https://localhost:8080/",
          "height": 85
        },
        "outputId": "e8512d7b-e7b4-4d6c-c16e-7b746641c6a0"
      },
      "source": [
        "%%time\n",
        "fmps = rk4_apply(mpo, mps, beta=0.01, bond_dim=200)\n",
        "ener = (fmps | (mpo @ fmps)) / (fmps | fmps)\n",
        "print('Energy = ', ener)\n",
        "print('Error  = ', ener - 0.2408363230374028)"
      ],
      "execution_count": 50,
      "outputs": [
        {
          "output_type": "stream",
          "text": [
            "Energy =  0.24098203293759857\n",
            "Error  =  0.0001457099001957729\n",
            "CPU times: user 5min 51s, sys: 34.1 s, total: 6min 25s\n",
            "Wall time: 3min 23s\n"
          ],
          "name": "stdout"
        }
      ]
    },
    {
      "cell_type": "markdown",
      "metadata": {
        "colab_type": "text",
        "id": "N9AaTmmMCiGT"
      },
      "source": [
        "$\\Delta\\beta = 0.02, M = 200$:"
      ]
    },
    {
      "cell_type": "code",
      "metadata": {
        "colab_type": "code",
        "id": "XBqKFq7FCiGU",
        "colab": {
          "base_uri": "https://localhost:8080/",
          "height": 85
        },
        "outputId": "4c8d3f38-2d28-415f-b71f-9782b2c7ae23"
      },
      "source": [
        "%%time\n",
        "fmps = rk4_apply(mpo, mps, beta=0.02, bond_dim=200)\n",
        "ener = (fmps | (mpo @ fmps)) / (fmps | fmps)\n",
        "print('Energy = ', ener)\n",
        "print('Error  = ', ener - 0.1711364110139819)"
      ],
      "execution_count": 51,
      "outputs": [
        {
          "output_type": "stream",
          "text": [
            "Energy =  0.1714263005809038\n",
            "Error  =  0.0002898895669219137\n",
            "CPU times: user 5min 51s, sys: 33.8 s, total: 6min 25s\n",
            "Wall time: 3min 21s\n"
          ],
          "name": "stdout"
        }
      ]
    },
    {
      "cell_type": "markdown",
      "metadata": {
        "id": "kZjTGx90C_yk",
        "colab_type": "text"
      },
      "source": [
        "### Matrix Product Density Operator (MPDO) Approach"
      ]
    },
    {
      "cell_type": "markdown",
      "metadata": {
        "colab_type": "text",
        "id": "fidi5Yh_DQ3S"
      },
      "source": [
        "Load 8-site Hydrogen chain model:"
      ]
    },
    {
      "cell_type": "code",
      "metadata": {
        "colab_type": "code",
        "id": "JuxGaPDKDQ3T",
        "colab": {}
      },
      "source": [
        "with HamilTools.from_fcidump('data/H8.STO6G.R1.8.FCIDUMP') as hamil:\n",
        "    mps = hamil.get_thermal_limit_mps()\n",
        "    mpo = hamil.get_mpo(mu=-1.0, ancilla=False)\n",
        "    mpo.const_e = 0.0"
      ],
      "execution_count": 52,
      "outputs": []
    },
    {
      "cell_type": "markdown",
      "metadata": {
        "id": "gE1C8s1aDV6M",
        "colab_type": "text"
      },
      "source": [
        "Translate initial ancilla MPS to MPDO by contracting physical and ancilla sites:"
      ]
    },
    {
      "cell_type": "code",
      "metadata": {
        "id": "BEI7FaZmDbPw",
        "colab_type": "code",
        "colab": {}
      },
      "source": [
        "tensors = []\n",
        "for i in range(mps.n_sites // 2):\n",
        "    tensors.append(Tensor.contract(mps[i * 2], mps[i * 2 + 1], [-1], [0]))\n",
        "mps = MPO(tensors=tensors)"
      ],
      "execution_count": 53,
      "outputs": []
    },
    {
      "cell_type": "markdown",
      "metadata": {
        "colab_type": "text",
        "id": "jsYTa9PQDQ3W"
      },
      "source": [
        "Check MPS and MPO (number of sites = 8):"
      ]
    },
    {
      "cell_type": "code",
      "metadata": {
        "colab_type": "code",
        "id": "A82hTJq2DQ3W",
        "colab": {
          "base_uri": "https://localhost:8080/",
          "height": 68
        },
        "outputId": "8d113a7d-6ddb-49c6-d146-b39be6ca89e5"
      },
      "source": [
        "print('MPS = ', mps.show_bond_dims())\n",
        "print('MPO = ', mpo.show_bond_dims())\n",
        "mpo.compress(cutoff=1E-8)\n",
        "print('MPO = ', mpo.show_bond_dims())"
      ],
      "execution_count": 54,
      "outputs": [
        {
          "output_type": "stream",
          "text": [
            "MPS =  1|1|1|1|1|1|1\n",
            "MPO =  46|82|142|226|334|466|622\n",
            "MPO =  16|46|84|122|84|46|16\n"
          ],
          "name": "stdout"
        }
      ]
    },
    {
      "cell_type": "markdown",
      "metadata": {
        "colab_type": "text",
        "id": "WK1CSjqjDlJU"
      },
      "source": [
        "Initial MPS energy:"
      ]
    },
    {
      "cell_type": "code",
      "metadata": {
        "colab_type": "code",
        "id": "4jZLNh49DlJV",
        "colab": {
          "base_uri": "https://localhost:8080/",
          "height": 51
        },
        "outputId": "f8ed0963-914e-4133-bc6d-813e3d45db98"
      },
      "source": [
        "init_e = (mps | (mpo @ mps)) / (mps | mps)\n",
        "print('Initial Energy = ', init_e)\n",
        "print('Error          = ', init_e - 0.3124038410492045)"
      ],
      "execution_count": 55,
      "outputs": [
        {
          "output_type": "stream",
          "text": [
            "Initial Energy =  0.3124038410492051\n",
            "Error          =  6.106226635438361e-16\n"
          ],
          "name": "stdout"
        }
      ]
    },
    {
      "cell_type": "markdown",
      "metadata": {
        "colab_type": "text",
        "id": "mraFWetbDlJY"
      },
      "source": [
        "Imaginary-time evolution:"
      ]
    },
    {
      "cell_type": "markdown",
      "metadata": {
        "colab_type": "text",
        "id": "zay0werIDlJY"
      },
      "source": [
        "$\\Delta\\beta = 0.01, M = 200$:"
      ]
    },
    {
      "cell_type": "code",
      "metadata": {
        "colab_type": "code",
        "id": "u3AoiaZoDlJa",
        "colab": {
          "base_uri": "https://localhost:8080/",
          "height": 85
        },
        "outputId": "887a4a7e-419d-416f-823a-b91000f4e174"
      },
      "source": [
        "%%time\n",
        "fmps = rk4_apply(mpo, mps, beta=0.01, bond_dim=200)\n",
        "ener = (fmps | (mpo @ fmps)) / (fmps | fmps)\n",
        "print('Energy = ', ener)\n",
        "print('Error  = ', ener - 0.2408363230374028)"
      ],
      "execution_count": 56,
      "outputs": [
        {
          "output_type": "stream",
          "text": [
            "Energy =  0.24083635154179525\n",
            "Error  =  2.8504392457495697e-08\n",
            "CPU times: user 10min 31s, sys: 49.2 s, total: 11min 20s\n",
            "Wall time: 6min 2s\n"
          ],
          "name": "stdout"
        }
      ]
    },
    {
      "cell_type": "markdown",
      "metadata": {
        "colab_type": "text",
        "id": "kBZ8PxxYDlJe"
      },
      "source": [
        "$\\Delta\\beta = 0.02, M = 200$:"
      ]
    },
    {
      "cell_type": "code",
      "metadata": {
        "colab_type": "code",
        "id": "UqNGZYRJDlJe",
        "colab": {
          "base_uri": "https://localhost:8080/",
          "height": 85
        },
        "outputId": "591bcd90-46bc-4cec-e0ec-5a53cf49cdf0"
      },
      "source": [
        "%%time\n",
        "fmps = rk4_apply(mpo, mps, beta=0.02, bond_dim=200)\n",
        "ener = (fmps | (mpo @ fmps)) / (fmps | fmps)\n",
        "print('Energy = ', ener)\n",
        "print('Error  = ', ener - 0.1711364110139819)"
      ],
      "execution_count": 57,
      "outputs": [
        {
          "output_type": "stream",
          "text": [
            "Energy =  0.17113665985616144\n",
            "Error  =  2.488421795565632e-07\n",
            "CPU times: user 10min 29s, sys: 44.8 s, total: 11min 13s\n",
            "Wall time: 5min 57s\n"
          ],
          "name": "stdout"
        }
      ]
    },
    {
      "cell_type": "markdown",
      "metadata": {
        "id": "gaDrp6TjfKUz",
        "colab_type": "text"
      },
      "source": [
        "### Time-Step Targeting Method (Alternating Truncation)"
      ]
    },
    {
      "cell_type": "markdown",
      "metadata": {
        "colab_type": "text",
        "id": "n7U5GGhGfLGx"
      },
      "source": [
        "$\\Delta\\beta = 0.01, M = 200$:"
      ]
    },
    {
      "cell_type": "code",
      "metadata": {
        "colab_type": "code",
        "id": "nDNtf4LFfLG0",
        "colab": {
          "base_uri": "https://localhost:8080/",
          "height": 85
        },
        "outputId": "0ba480ae-f8bf-4df5-df4b-04ac26106866"
      },
      "source": [
        "%%time\n",
        "with HamilTools.from_fcidump('data/H8.STO6G.R1.8.FCIDUMP') as hamil:\n",
        "    ener = time_step_targeting(hamil, bond_dim=200, beta_step=0.01, pattern=True)\n",
        "    print('Energy = ', ener)\n",
        "    print('Error  = ', ener - 0.2408363230374028)"
      ],
      "execution_count": 58,
      "outputs": [
        {
          "output_type": "stream",
          "text": [
            "Energy =  0.240836350724998\n",
            "Error  =  2.7687595216541183e-08\n",
            "CPU times: user 32.6 s, sys: 615 ms, total: 33.2 s\n",
            "Wall time: 33.1 s\n"
          ],
          "name": "stdout"
        }
      ]
    },
    {
      "cell_type": "markdown",
      "metadata": {
        "colab_type": "text",
        "id": "kJPNpHfQfLG6"
      },
      "source": [
        "$\\Delta\\beta = 0.02, M = 200$:"
      ]
    },
    {
      "cell_type": "code",
      "metadata": {
        "colab_type": "code",
        "id": "Uvg_Jvp-fLG6",
        "colab": {
          "base_uri": "https://localhost:8080/",
          "height": 85
        },
        "outputId": "fe7693dc-8402-4abb-df8c-25659871aa51"
      },
      "source": [
        "%%time\n",
        "with HamilTools.from_fcidump('data/H8.STO6G.R1.8.FCIDUMP') as hamil:\n",
        "    ener = time_step_targeting(hamil, bond_dim=200, beta_step=0.02, pattern=True)\n",
        "    print('Energy = ', ener)\n",
        "    print('Error  = ', ener - 0.1711364110139819)"
      ],
      "execution_count": 59,
      "outputs": [
        {
          "output_type": "stream",
          "text": [
            "Energy =  0.1711366190114786\n",
            "Error  =  2.079974967261755e-07\n",
            "CPU times: user 1min 14s, sys: 1.01 s, total: 1min 15s\n",
            "Wall time: 1min 15s\n"
          ],
          "name": "stdout"
        }
      ]
    }
  ]
}